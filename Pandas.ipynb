{
  "nbformat": 4,
  "nbformat_minor": 0,
  "metadata": {
    "colab": {
      "provenance": [],
      "gpuType": "T4",
      "authorship_tag": "ABX9TyNiV3WMRVU0NWGxx/yySmcS",
      "include_colab_link": true
    },
    "kernelspec": {
      "name": "python3",
      "display_name": "Python 3"
    },
    "language_info": {
      "name": "python"
    },
    "accelerator": "GPU"
  },
  "cells": [
    {
      "cell_type": "markdown",
      "metadata": {
        "id": "view-in-github",
        "colab_type": "text"
      },
      "source": [
        "<a href=\"https://colab.research.google.com/github/MohitBhatt7/Pandas/blob/main/Pandas.ipynb\" target=\"_parent\"><img src=\"https://colab.research.google.com/assets/colab-badge.svg\" alt=\"Open In Colab\"/></a>"
      ]
    },
    {
      "cell_type": "markdown",
      "source": [
        "# Core Data Structure."
      ],
      "metadata": {
        "id": "eEKdVqtka5OL"
      }
    },
    {
      "cell_type": "code",
      "source": [
        "import pandas as pd\n",
        "df = pd.Series([\"Name\", \"Alice\", \"Mark\", \"Terrence\", \"Sabin\"], index=[\"S.N\", 1, 2, 3, 4])\n",
        "print(df)\n"
      ],
      "metadata": {
        "colab": {
          "base_uri": "https://localhost:8080/"
        },
        "id": "toyOrlf2a8vp",
        "outputId": "d5596b40-e0b0-48c5-9cbd-f1e2d4fcce5c"
      },
      "execution_count": 5,
      "outputs": [
        {
          "output_type": "stream",
          "name": "stdout",
          "text": [
            "S.N        Name\n",
            "1         Alice\n",
            "2          Mark\n",
            "3      Terrence\n",
            "4         Sabin\n",
            "dtype: object\n"
          ]
        }
      ]
    },
    {
      "cell_type": "code",
      "source": [
        "Data = {\n",
        "    \"Name\": [\"Mark\", \"Terrence\", \"Alice\"],\n",
        "    \"Age\": [10, 12, 13]\n",
        "\n",
        "}\n",
        "\n",
        "DF = pd.DataFrame(Data)\n",
        "print(DF)"
      ],
      "metadata": {
        "colab": {
          "base_uri": "https://localhost:8080/"
        },
        "id": "QdWPA1W3bg77",
        "outputId": "84f972d4-c622-405b-9453-efc289bc57dc"
      },
      "execution_count": 6,
      "outputs": [
        {
          "output_type": "stream",
          "name": "stdout",
          "text": [
            "       Name  Age\n",
            "0      Mark   10\n",
            "1  Terrence   12\n",
            "2     Alice   13\n"
          ]
        }
      ]
    },
    {
      "cell_type": "code",
      "source": [
        "import pandas as pd\n",
        "DF = pd.read_csv(\"/content/abc.csv\")\n",
        "print(DF)"
      ],
      "metadata": {
        "colab": {
          "base_uri": "https://localhost:8080/"
        },
        "id": "uSqhz7gtgIIV",
        "outputId": "4242346b-3a68-410f-a0d8-3adaf291749f"
      },
      "execution_count": 8,
      "outputs": [
        {
          "output_type": "stream",
          "name": "stdout",
          "text": [
            "  student  language  science  maths  history\n",
            "0   kumar        90       56     34       34\n",
            "1   kevin        10       34     32       67\n",
            "2   sammy        90       23     12       32\n",
            "3  janice        20       67     90       45\n",
            "4   peter        30       56     45       65\n",
            "5    prem        90       45     45       34\n",
            "6  carrol        50       90     45       23\n"
          ]
        }
      ]
    },
    {
      "cell_type": "markdown",
      "source": [
        "# COVID-19 DATASET.\n"
      ],
      "metadata": {
        "id": "QwwVkbUXCY06"
      }
    },
    {
      "cell_type": "code",
      "source": [
        "import pandas as pd\n",
        "Dataframe = pd.read_csv(\"/content/country_wise_latest.csv\")\n",
        "print(Dataframe)"
      ],
      "metadata": {
        "colab": {
          "base_uri": "https://localhost:8080/"
        },
        "id": "iI8L7_LiCesH",
        "outputId": "9a8e5d63-8ba2-47a2-ffc7-ee71617e7852"
      },
      "execution_count": 2,
      "outputs": [
        {
          "output_type": "stream",
          "name": "stdout",
          "text": [
            "         Country/Region  Confirmed  Deaths  Recovered  Active  New cases  \\\n",
            "0           Afghanistan      36263    1269      25198    9796        106   \n",
            "1               Albania       4880     144       2745    1991        117   \n",
            "2               Algeria      27973    1163      18837    7973        616   \n",
            "3               Andorra        907      52        803      52         10   \n",
            "4                Angola        950      41        242     667         18   \n",
            "..                  ...        ...     ...        ...     ...        ...   \n",
            "182  West Bank and Gaza      10621      78       3752    6791        152   \n",
            "183      Western Sahara         10       1          8       1          0   \n",
            "184               Yemen       1691     483        833     375         10   \n",
            "185              Zambia       4552     140       2815    1597         71   \n",
            "186            Zimbabwe       2704      36        542    2126        192   \n",
            "\n",
            "     New deaths  New recovered  Deaths / 100 Cases  Recovered / 100 Cases  \\\n",
            "0            10             18                3.50                  69.49   \n",
            "1             6             63                2.95                  56.25   \n",
            "2             8            749                4.16                  67.34   \n",
            "3             0              0                5.73                  88.53   \n",
            "4             1              0                4.32                  25.47   \n",
            "..          ...            ...                 ...                    ...   \n",
            "182           2              0                0.73                  35.33   \n",
            "183           0              0               10.00                  80.00   \n",
            "184           4             36               28.56                  49.26   \n",
            "185           1            465                3.08                  61.84   \n",
            "186           2             24                1.33                  20.04   \n",
            "\n",
            "     Deaths / 100 Recovered  Confirmed last week  1 week change  \\\n",
            "0                      5.04                35526            737   \n",
            "1                      5.25                 4171            709   \n",
            "2                      6.17                23691           4282   \n",
            "3                      6.48                  884             23   \n",
            "4                     16.94                  749            201   \n",
            "..                      ...                  ...            ...   \n",
            "182                    2.08                 8916           1705   \n",
            "183                   12.50                   10              0   \n",
            "184                   57.98                 1619             72   \n",
            "185                    4.97                 3326           1226   \n",
            "186                    6.64                 1713            991   \n",
            "\n",
            "     1 week % increase             WHO Region  \n",
            "0                 2.07  Eastern Mediterranean  \n",
            "1                17.00                 Europe  \n",
            "2                18.07                 Africa  \n",
            "3                 2.60                 Europe  \n",
            "4                26.84                 Africa  \n",
            "..                 ...                    ...  \n",
            "182              19.12  Eastern Mediterranean  \n",
            "183               0.00                 Africa  \n",
            "184               4.45  Eastern Mediterranean  \n",
            "185              36.86                 Africa  \n",
            "186              57.85                 Africa  \n",
            "\n",
            "[187 rows x 15 columns]\n"
          ]
        }
      ]
    },
    {
      "cell_type": "code",
      "source": [
        "print(Dataframe.head())"
      ],
      "metadata": {
        "colab": {
          "base_uri": "https://localhost:8080/"
        },
        "id": "tP76moksCqN3",
        "outputId": "1209e5cf-2444-491c-8d90-eb960a6eb703"
      },
      "execution_count": 4,
      "outputs": [
        {
          "output_type": "stream",
          "name": "stdout",
          "text": [
            "  Country/Region  Confirmed  Deaths  Recovered  Active  New cases  New deaths  \\\n",
            "0    Afghanistan      36263    1269      25198    9796        106          10   \n",
            "1        Albania       4880     144       2745    1991        117           6   \n",
            "2        Algeria      27973    1163      18837    7973        616           8   \n",
            "3        Andorra        907      52        803      52         10           0   \n",
            "4         Angola        950      41        242     667         18           1   \n",
            "\n",
            "   New recovered  Deaths / 100 Cases  Recovered / 100 Cases  \\\n",
            "0             18                3.50                  69.49   \n",
            "1             63                2.95                  56.25   \n",
            "2            749                4.16                  67.34   \n",
            "3              0                5.73                  88.53   \n",
            "4              0                4.32                  25.47   \n",
            "\n",
            "   Deaths / 100 Recovered  Confirmed last week  1 week change  \\\n",
            "0                    5.04                35526            737   \n",
            "1                    5.25                 4171            709   \n",
            "2                    6.17                23691           4282   \n",
            "3                    6.48                  884             23   \n",
            "4                   16.94                  749            201   \n",
            "\n",
            "   1 week % increase             WHO Region  \n",
            "0               2.07  Eastern Mediterranean  \n",
            "1              17.00                 Europe  \n",
            "2              18.07                 Africa  \n",
            "3               2.60                 Europe  \n",
            "4              26.84                 Africa  \n"
          ]
        }
      ]
    },
    {
      "cell_type": "code",
      "source": [
        "print(len(Dataframe.columns)) # Checks the number of columns in Dataframe."
      ],
      "metadata": {
        "colab": {
          "base_uri": "https://localhost:8080/"
        },
        "id": "1LGoxq0JEqrE",
        "outputId": "edb9f058-e85b-4b65-873c-fe9b364ded0a"
      },
      "execution_count": 8,
      "outputs": [
        {
          "output_type": "stream",
          "name": "stdout",
          "text": [
            "15\n"
          ]
        }
      ]
    },
    {
      "cell_type": "code",
      "source": [
        "print(len(Dataframe)) # Checks the numbers of rows in dataframe."
      ],
      "metadata": {
        "colab": {
          "base_uri": "https://localhost:8080/"
        },
        "id": "sUMnOHooEspa",
        "outputId": "d8b07c3a-348a-470d-aa17-9826ece632aa"
      },
      "execution_count": 9,
      "outputs": [
        {
          "output_type": "stream",
          "name": "stdout",
          "text": [
            "187\n"
          ]
        }
      ]
    },
    {
      "cell_type": "code",
      "source": [
        "print(Dataframe.ndim)"
      ],
      "metadata": {
        "colab": {
          "base_uri": "https://localhost:8080/"
        },
        "id": "gwk6YZ2YFjlH",
        "outputId": "5b17a21b-4b5d-478d-8a21-5ea50a40cb3f"
      },
      "execution_count": 12,
      "outputs": [
        {
          "output_type": "stream",
          "name": "stdout",
          "text": [
            "2\n"
          ]
        }
      ]
    },
    {
      "cell_type": "code",
      "source": [
        "print(Dataframe.shape)"
      ],
      "metadata": {
        "colab": {
          "base_uri": "https://localhost:8080/"
        },
        "id": "T8rOt-PEGPIs",
        "outputId": "64ef1c3c-7f68-4d2b-c2d7-52cac54239f4"
      },
      "execution_count": 14,
      "outputs": [
        {
          "output_type": "stream",
          "name": "stdout",
          "text": [
            "(187, 15)\n"
          ]
        }
      ]
    },
    {
      "cell_type": "code",
      "source": [],
      "metadata": {
        "id": "tFL0w3LuGWGZ"
      },
      "execution_count": null,
      "outputs": []
    }
  ]
}