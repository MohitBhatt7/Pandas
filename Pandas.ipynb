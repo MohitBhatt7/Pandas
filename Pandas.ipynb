{
  "nbformat": 4,
  "nbformat_minor": 0,
  "metadata": {
    "colab": {
      "provenance": [],
      "gpuType": "T4",
      "authorship_tag": "ABX9TyPHePyp4beV3ssMuKCPqHoE",
      "include_colab_link": true
    },
    "kernelspec": {
      "name": "python3",
      "display_name": "Python 3"
    },
    "language_info": {
      "name": "python"
    },
    "accelerator": "GPU"
  },
  "cells": [
    {
      "cell_type": "markdown",
      "metadata": {
        "id": "view-in-github",
        "colab_type": "text"
      },
      "source": [
        "<a href=\"https://colab.research.google.com/github/MohitBhatt7/Pandas/blob/main/Pandas.ipynb\" target=\"_parent\"><img src=\"https://colab.research.google.com/assets/colab-badge.svg\" alt=\"Open In Colab\"/></a>"
      ]
    },
    {
      "cell_type": "markdown",
      "source": [
        "# Core Data Structure."
      ],
      "metadata": {
        "id": "eEKdVqtka5OL"
      }
    },
    {
      "cell_type": "code",
      "source": [
        "import pandas as pd\n",
        "df = pd.Series([\"Name\", \"Alice\", \"Mark\", \"Terrence\", \"Sabin\"], index=[\"S.N\", 1, 2, 3, 4])\n",
        "print(df)\n"
      ],
      "metadata": {
        "colab": {
          "base_uri": "https://localhost:8080/"
        },
        "id": "toyOrlf2a8vp",
        "outputId": "d5596b40-e0b0-48c5-9cbd-f1e2d4fcce5c"
      },
      "execution_count": 5,
      "outputs": [
        {
          "output_type": "stream",
          "name": "stdout",
          "text": [
            "S.N        Name\n",
            "1         Alice\n",
            "2          Mark\n",
            "3      Terrence\n",
            "4         Sabin\n",
            "dtype: object\n"
          ]
        }
      ]
    },
    {
      "cell_type": "code",
      "source": [
        "Data = {\n",
        "    \"Name\": [\"Mark\", \"Terrence\", \"Alice\"],\n",
        "    \"Age\": [10, 12, 13]\n",
        "\n",
        "}\n",
        "\n",
        "DF = pd.DataFrame(Data)\n",
        "print(DF)"
      ],
      "metadata": {
        "colab": {
          "base_uri": "https://localhost:8080/"
        },
        "id": "QdWPA1W3bg77",
        "outputId": "84f972d4-c622-405b-9453-efc289bc57dc"
      },
      "execution_count": 6,
      "outputs": [
        {
          "output_type": "stream",
          "name": "stdout",
          "text": [
            "       Name  Age\n",
            "0      Mark   10\n",
            "1  Terrence   12\n",
            "2     Alice   13\n"
          ]
        }
      ]
    },
    {
      "cell_type": "code",
      "source": [],
      "metadata": {
        "id": "EAx3tq0-cq-X"
      },
      "execution_count": null,
      "outputs": []
    }
  ]
}