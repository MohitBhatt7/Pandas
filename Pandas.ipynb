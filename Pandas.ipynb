{
  "nbformat": 4,
  "nbformat_minor": 0,
  "metadata": {
    "colab": {
      "provenance": [],
      "gpuType": "T4",
      "authorship_tag": "ABX9TyPy5pIeCw0MSm4wZnGmhGik",
      "include_colab_link": true
    },
    "kernelspec": {
      "name": "python3",
      "display_name": "Python 3"
    },
    "language_info": {
      "name": "python"
    },
    "accelerator": "GPU"
  },
  "cells": [
    {
      "cell_type": "markdown",
      "metadata": {
        "id": "view-in-github",
        "colab_type": "text"
      },
      "source": [
        "<a href=\"https://colab.research.google.com/github/MohitBhatt7/Pandas/blob/main/Pandas.ipynb\" target=\"_parent\"><img src=\"https://colab.research.google.com/assets/colab-badge.svg\" alt=\"Open In Colab\"/></a>"
      ]
    },
    {
      "cell_type": "markdown",
      "source": [
        "# Core Data Structure."
      ],
      "metadata": {
        "id": "eEKdVqtka5OL"
      }
    },
    {
      "cell_type": "code",
      "source": [
        "import pandas as pd\n",
        "df = pd.Series([\"Name\", \"Alice\", \"Mark\", \"Terrence\", \"Sabin\"], index=[\"S.N\", 1, 2, 3, 4])\n",
        "print(df)\n"
      ],
      "metadata": {
        "colab": {
          "base_uri": "https://localhost:8080/"
        },
        "id": "toyOrlf2a8vp",
        "outputId": "d5596b40-e0b0-48c5-9cbd-f1e2d4fcce5c"
      },
      "execution_count": 5,
      "outputs": [
        {
          "output_type": "stream",
          "name": "stdout",
          "text": [
            "S.N        Name\n",
            "1         Alice\n",
            "2          Mark\n",
            "3      Terrence\n",
            "4         Sabin\n",
            "dtype: object\n"
          ]
        }
      ]
    },
    {
      "cell_type": "code",
      "source": [
        "Data = {\n",
        "    \"Name\": [\"Mark\", \"Terrence\", \"Alice\"],\n",
        "    \"Age\": [10, 12, 13]\n",
        "\n",
        "}\n",
        "\n",
        "DF = pd.DataFrame(Data)\n",
        "print(DF)"
      ],
      "metadata": {
        "colab": {
          "base_uri": "https://localhost:8080/"
        },
        "id": "QdWPA1W3bg77",
        "outputId": "84f972d4-c622-405b-9453-efc289bc57dc"
      },
      "execution_count": 6,
      "outputs": [
        {
          "output_type": "stream",
          "name": "stdout",
          "text": [
            "       Name  Age\n",
            "0      Mark   10\n",
            "1  Terrence   12\n",
            "2     Alice   13\n"
          ]
        }
      ]
    },
    {
      "cell_type": "code",
      "source": [
        "import pandas as pd\n",
        "DF = pd.read_csv(\"/content/abc.csv\")\n",
        "print(DF)"
      ],
      "metadata": {
        "colab": {
          "base_uri": "https://localhost:8080/"
        },
        "id": "uSqhz7gtgIIV",
        "outputId": "4242346b-3a68-410f-a0d8-3adaf291749f"
      },
      "execution_count": 8,
      "outputs": [
        {
          "output_type": "stream",
          "name": "stdout",
          "text": [
            "  student  language  science  maths  history\n",
            "0   kumar        90       56     34       34\n",
            "1   kevin        10       34     32       67\n",
            "2   sammy        90       23     12       32\n",
            "3  janice        20       67     90       45\n",
            "4   peter        30       56     45       65\n",
            "5    prem        90       45     45       34\n",
            "6  carrol        50       90     45       23\n"
          ]
        }
      ]
    },
    {
      "cell_type": "code",
      "source": [],
      "metadata": {
        "id": "wFS452SsgVi-"
      },
      "execution_count": null,
      "outputs": []
    }
  ]
}